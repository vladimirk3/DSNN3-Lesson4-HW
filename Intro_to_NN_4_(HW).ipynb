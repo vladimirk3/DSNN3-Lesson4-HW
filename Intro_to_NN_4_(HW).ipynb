{
 "cells": [
  {
   "cell_type": "markdown",
   "metadata": {
    "collapsed": true,
    "id": "l4VAzKlG8aHj"
   },
   "source": [
    "## Neural Part Of Speech Tagging\n",
    "\n",
    "We're now going to solve the same problem of POS tagging with neural networks.\n",
    "<img src=https://i.stack.imgur.com/6pdIT.png width=320>\n",
    "\n",
    "From deep learning perspective, this is a task of predicting a sequence of outputs aligned to a sequence of inputs. There are several problems that match this formulation:\n",
    "* Part Of Speech Tagging -  an auxuliary task for many NLP problems\n",
    "* Named Entity Recognition - for chat bots and web crawlers\n",
    "* Protein structure prediction - for bioinformatics"
   ]
  },
  {
   "cell_type": "code",
   "execution_count": 1,
   "metadata": {
    "colab": {
     "base_uri": "https://localhost:8080/"
    },
    "id": "wnu9D3YZoH2e",
    "outputId": "6b6a379a-baf5-48fe-e54b-deb5283ba0b6"
   },
   "outputs": [
    {
     "name": "stderr",
     "output_type": "stream",
     "text": [
      "UsageError: Line magic function `%tensorflow_version` not found.\n"
     ]
    }
   ],
   "source": [
    "%tensorflow_version 1.x"
   ]
  },
  {
   "cell_type": "code",
   "execution_count": 2,
   "metadata": {
    "colab": {
     "base_uri": "https://localhost:8080/"
    },
    "id": "yxFUBtb88aHq",
    "outputId": "c4f7f6d9-6547-45c1-889c-4610b90a8638",
    "scrolled": true
   },
   "outputs": [
    {
     "name": "stderr",
     "output_type": "stream",
     "text": [
      "[nltk_data] Downloading package brown to\n",
      "[nltk_data]     C:\\Users\\Vladimir\\AppData\\Roaming\\nltk_data...\n",
      "[nltk_data]   Package brown is already up-to-date!\n",
      "[nltk_data] Downloading package universal_tagset to\n",
      "[nltk_data]     C:\\Users\\Vladimir\\AppData\\Roaming\\nltk_data...\n",
      "[nltk_data]   Package universal_tagset is already up-to-date!\n",
      "C:\\ProgramFiles\\Anaconda3\\lib\\site-packages\\ipykernel_launcher.py:10: VisibleDeprecationWarning: Creating an ndarray from ragged nested sequences (which is a list-or-tuple of lists-or-tuples-or ndarrays with different lengths or shapes) is deprecated. If you meant to do this, you must specify 'dtype=object' when creating the ndarray\n",
      "  # Remove the CWD from sys.path while we load stuff.\n"
     ]
    }
   ],
   "source": [
    "import nltk\n",
    "import sys\n",
    "import numpy as np\n",
    "\n",
    "nltk.download('brown')\n",
    "nltk.download('universal_tagset')\n",
    "data = nltk.corpus.brown.tagged_sents(tagset='universal')\n",
    "all_tags = ['#EOS#','#UNK#','ADV', 'NOUN', 'ADP', 'PRON', 'DET', '.', 'PRT', 'VERB', 'X', 'NUM', 'CONJ', 'ADJ']\n",
    "\n",
    "data = np.array([ [(word.lower(),tag) for word,tag in sentence] for sentence in data ])"
   ]
  },
  {
   "cell_type": "code",
   "execution_count": 3,
   "metadata": {
    "id": "Bq_OXuD38aHs"
   },
   "outputs": [],
   "source": [
    "from sklearn.model_selection import train_test_split\n",
    "train_data, test_data = train_test_split(data,test_size=0.25,random_state=42)"
   ]
  },
  {
   "cell_type": "code",
   "execution_count": 4,
   "metadata": {
    "colab": {
     "base_uri": "https://localhost:8080/",
     "height": 155
    },
    "id": "sAlXrDmU8aHs",
    "outputId": "c9880524-8948-4cf2-9fef-275c66ba6ddb"
   },
   "outputs": [
    {
     "data": {
      "text/html": [
       "<table><tr><td>NOUN</td><td>ADP</td><td>NOUN</td><td>NOUN</td><td>NOUN</td><td>NOUN</td><td>VERB</td><td>ADV</td><td>VERB</td><td>ADP</td><td>DET</td><td>ADJ</td><td>NOUN</td><td>.</td></tr><td>implementation</td><td>of</td><td>georgia's</td><td>automobile</td><td>title</td><td>law</td><td>was</td><td>also</td><td>recommended</td><td>by</td><td>the</td><td>outgoing</td><td>jury</td><td>.</td><tr></table>"
      ],
      "text/plain": [
       "<IPython.core.display.HTML object>"
      ]
     },
     "metadata": {},
     "output_type": "display_data"
    },
    {
     "data": {
      "text/html": [
       "<table><tr><td>PRON</td><td>VERB</td><td>ADP</td><td>DET</td><td>NOUN</td><td>.</td><td>VERB</td><td>NOUN</td><td>PRT</td><td>VERB</td><td>.</td><td>DET</td><td>NOUN</td><td>.</td></tr><td>it</td><td>urged</td><td>that</td><td>the</td><td>city</td><td>``</td><td>take</td><td>steps</td><td>to</td><td>remedy</td><td>''</td><td>this</td><td>problem</td><td>.</td><tr></table>"
      ],
      "text/plain": [
       "<IPython.core.display.HTML object>"
      ]
     },
     "metadata": {},
     "output_type": "display_data"
    },
    {
     "data": {
      "text/html": [
       "<table><tr><td>NOUN</td><td>VERB</td></tr><td>merger</td><td>proposed</td><tr></table>"
      ],
      "text/plain": [
       "<IPython.core.display.HTML object>"
      ]
     },
     "metadata": {},
     "output_type": "display_data"
    }
   ],
   "source": [
    "from IPython.display import HTML, display\n",
    "def draw(sentence):\n",
    "    words,tags = zip(*sentence)\n",
    "    display(HTML('<table><tr>{tags}</tr>{words}<tr></table>'.format(\n",
    "                words = '<td>{}</td>'.format('</td><td>'.join(words)),\n",
    "                tags = '<td>{}</td>'.format('</td><td>'.join(tags)))))\n",
    "    \n",
    "    \n",
    "draw(data[11])\n",
    "draw(data[10])\n",
    "draw(data[7])"
   ]
  },
  {
   "cell_type": "code",
   "execution_count": 71,
   "metadata": {},
   "outputs": [
    {
     "data": {
      "text/plain": [
       "array([list([('the', 'DET'), ('impression', 'NOUN'), ('you', 'PRON'), ('get', 'VERB'), ('from', 'ADP'), ('carl', 'NOUN'), (\"sandburg's\", 'NOUN'), ('home', 'NOUN'), ('is', 'VERB'), ('one', 'NUM'), ('of', 'ADP'), ('laughter', 'NOUN'), ('and', 'CONJ'), ('happiness', 'NOUN'), (';', '.'), (';', '.')]),\n",
       "       list([('other', 'ADJ'), ('pigments', 'NOUN'), ('were', 'VERB'), ('mostly', 'ADV'), ('raw', 'ADJ'), ('umber', 'NOUN'), (',', '.'), ('some', 'DET'), ('burnt', 'VERB'), ('umber', 'NOUN'), (',', '.'), ('and', 'CONJ'), ('a', 'DET'), ('little', 'ADJ'), ('yellow', 'ADJ'), ('ochre', 'NOUN'), ('.', '.')]),\n",
       "       list([('that', 'DET'), ('was', 'VERB'), ('rob', 'NOUN'), ('roy', 'NOUN'), (',', '.'), ('who', 'PRON'), ('posed', 'VERB'), ('with', 'ADP'), ('mrs.', 'NOUN'), ('coolidge', 'NOUN'), ('for', 'ADP'), ('the', 'DET'), ('portrait', 'NOUN'), ('by', 'ADP'), ('howard', 'NOUN'), ('chandler', 'NOUN'), ('christy', 'NOUN'), ('.', '.')]),\n",
       "       ...,\n",
       "       list([('the', 'DET'), ('city', 'NOUN'), ('is', 'VERB'), ('not', 'ADV'), ('adequately', 'ADV'), ('compensated', 'VERB'), ('for', 'ADP'), ('the', 'DET'), ('services', 'NOUN'), ('covered', 'VERB'), ('by', 'ADP'), ('the', 'DET'), ('fees', 'NOUN'), (',', '.'), ('he', 'PRON'), ('said', 'VERB'), ('.', '.')]),\n",
       "       list([('you', 'PRON'), ('never', 'ADV'), ('are', 'VERB'), ('late', 'ADJ'), ('for', 'ADP'), ('work', 'NOUN'), ('and', 'CONJ'), ('seldom', 'ADV'), ('absent', 'ADJ'), ('.', '.')]),\n",
       "       list([('they', 'PRON'), ('had', 'VERB'), ('been', 'VERB'), ('kind', 'ADJ'), ('to', 'ADP'), ('us', 'PRON'), ('and', 'CONJ'), ('we', 'PRON'), ('were', 'VERB'), ('indebted', 'ADJ'), ('to', 'ADP'), ('them', 'PRON'), ('for', 'ADP'), ('one', 'NUM'), ('or', 'CONJ'), ('two', 'NUM'), ('pleasant', 'ADJ'), ('dinners', 'NOUN'), (',', '.'), ('and', 'CONJ'), ('for', 'ADP'), ('information', 'NOUN'), ('as', 'ADP'), ('to', 'ADP'), ('where', 'ADV'), ('to', 'PRT'), ('shop', 'VERB'), (',', '.'), ('which', 'DET'), ('dentist', 'NOUN'), (',', '.'), ('doctor', 'NOUN'), (',', '.'), ('plumber', 'NOUN'), (',', '.'), ('and', 'CONJ'), ('sitter', 'NOUN'), ('to', 'PRT'), ('call', 'VERB'), ('(', '.'), ('not', 'ADV'), ('that', 'ADP'), ('there', 'PRT'), ('was', 'VERB'), ('much', 'ADJ'), ('of', 'ADP'), ('a', 'DET'), ('choice', 'NOUN'), (',', '.'), ('since', 'ADP'), ('catatonia', 'NOUN'), ('was', 'VERB'), ('just', 'ADV'), ('a', 'DET'), ('village', 'NOUN'), (';', '.'), (';', '.')])],\n",
       "      dtype=object)"
      ]
     },
     "execution_count": 71,
     "metadata": {},
     "output_type": "execute_result"
    }
   ],
   "source": [
    "train_data"
   ]
  },
  {
   "cell_type": "markdown",
   "metadata": {
    "id": "LAViiL2C8aHt"
   },
   "source": [
    "### Building vocabularies\n",
    "\n",
    "Just like before, we have to build a mapping from tokens to integer ids. This time around, our model operates on a word level, processing one word per RNN step. This means we'll have to deal with far larger vocabulary.\n",
    "\n",
    "Luckily for us, we only receive those words as input i.e. we don't have to predict them. This means we can have a large vocabulary for free by using word embeddings."
   ]
  },
  {
   "cell_type": "code",
   "execution_count": 5,
   "metadata": {
    "colab": {
     "base_uri": "https://localhost:8080/"
    },
    "id": "ZXK_k-mo8aHt",
    "outputId": "f8d314c1-d938-463c-c072-9c1b28ffc33a"
   },
   "outputs": [
    {
     "name": "stdout",
     "output_type": "stream",
     "text": [
      "Coverage = 0.92876\n"
     ]
    }
   ],
   "source": [
    "from collections import Counter\n",
    "word_counts = Counter()\n",
    "for sentence in data:\n",
    "    words,tags = zip(*sentence)\n",
    "    word_counts.update(words)\n",
    "\n",
    "all_words = ['#EOS#','#UNK#'] + list(list(zip(*word_counts.most_common(10000)))[0])\n",
    "\n",
    "#let's measure what fraction of data words are in the dictionary\n",
    "print(\"Coverage = %.5f\" % (float(sum(word_counts[w] for w in all_words)) / sum(word_counts.values())))"
   ]
  },
  {
   "cell_type": "code",
   "execution_count": 6,
   "metadata": {
    "id": "T0hee8L88aHt"
   },
   "outputs": [],
   "source": [
    "from collections import defaultdict\n",
    "word_to_id = defaultdict(lambda:1, { word: i for i, word in enumerate(all_words) })\n",
    "tag_to_id = { tag: i for i, tag in enumerate(all_tags)}"
   ]
  },
  {
   "cell_type": "code",
   "execution_count": 7,
   "metadata": {
    "colab": {
     "base_uri": "https://localhost:8080/"
    },
    "id": "wlmwnbK2Wvgd",
    "outputId": "2e9dbeef-2ac6-44d0-9eb1-9e726187166b"
   },
   "outputs": [
    {
     "data": {
      "text/plain": [
       "14"
      ]
     },
     "execution_count": 7,
     "metadata": {},
     "output_type": "execute_result"
    }
   ],
   "source": [
    "len(tag_to_id)"
   ]
  },
  {
   "cell_type": "markdown",
   "metadata": {
    "id": "RCmGbwpP8aHu"
   },
   "source": [
    "convert words and tags into fixed-size matrix"
   ]
  },
  {
   "cell_type": "code",
   "execution_count": 8,
   "metadata": {
    "id": "X7kx6jWn8aHu"
   },
   "outputs": [],
   "source": [
    "def to_matrix(lines, token_to_id, max_len=None, pad=0, dtype='int32', time_major=False):\n",
    "    \"\"\"Converts a list of names into rnn-digestable matrix with paddings added after the end\"\"\"\n",
    "    \n",
    "    max_len = max_len or max(map(len,lines))\n",
    "    matrix = np.empty([len(lines), max_len],dtype)\n",
    "    matrix.fill(pad)\n",
    "\n",
    "    for i in range(len(lines)):\n",
    "        line_ix = list(map(token_to_id.__getitem__,lines[i]))[:max_len]\n",
    "        matrix[i,:len(line_ix)] = line_ix\n",
    "\n",
    "    return matrix.T if time_major else matrix\n",
    "\n"
   ]
  },
  {
   "cell_type": "code",
   "execution_count": 9,
   "metadata": {
    "colab": {
     "base_uri": "https://localhost:8080/"
    },
    "id": "BCaE-i5u8aHu",
    "outputId": "166bd0bd-c778-4cd2-de94-7e777df9a74e"
   },
   "outputs": [
    {
     "name": "stdout",
     "output_type": "stream",
     "text": [
      "Word ids:\n",
      "[[   2 3057    5    2 2238 1334 4238 2454    3    6   19   26 1070   69\n",
      "     8 2088    6    3    1    3  266   65  342    2    1    3    2  315\n",
      "     1    9   87  216 3322   69 1558    4    0    0    0    0    0    0\n",
      "     0    0    0    0    0    0    0    0    0    0    0]\n",
      " [  45   12    8  511 8419    6   60 3246   39    2    1    1    3    2\n",
      "   845    1    3    1    3   10 9910    2    1 3470    9   43    1    1\n",
      "     3    6    2 1046  385   73 4562    3    9    2    1    1 3250    3\n",
      "    12   10    2  861 5240   12    8 8936  121    1    4]\n",
      " [  33   64   26   12  445    7 7346    9    8 3337    3    1 2811    3\n",
      "     2  463  572    2    1    1 1649   12    1    4    0    0    0    0\n",
      "     0    0    0    0    0    0    0    0    0    0    0    0    0    0\n",
      "     0    0    0    0    0    0    0    0    0    0    0]]\n",
      "Tag ids:\n",
      "[[ 6  3  4  6  3  3  9  9  7 12  4  5  9  4  6  3 12  7  9  7  9  8  4  6\n",
      "   3  7  6 13  3  4  6  3  9  4  3  7  0  0  0  0  0  0  0  0  0  0  0  0\n",
      "   0  0  0  0  0]\n",
      " [ 5  9  6  9  3 12  6  3  7  6 13  3  7  6 13  3  7 13  7  5  9  6  3  3\n",
      "   4  6 13  3  7 12  6  3  6 13  3  7  4  6  3  9  3  7  9  4  6 13  3  9\n",
      "   6  3  2 13  7]\n",
      " [ 4  6  5  9 13  4  3  4  6 13  7 13  3  7  6  3  4  6 13  3  3  9  9  7\n",
      "   0  0  0  0  0  0  0  0  0  0  0  0  0  0  0  0  0  0  0  0  0  0  0  0\n",
      "   0  0  0  0  0]]\n"
     ]
    }
   ],
   "source": [
    "batch_words, batch_tags = zip(*[zip(*sentence) for sentence in data[-3:]])\n",
    "\n",
    "print(\"Word ids:\")\n",
    "print(to_matrix(batch_words, word_to_id))\n",
    "print(\"Tag ids:\")\n",
    "print(to_matrix(batch_tags, tag_to_id))"
   ]
  },
  {
   "cell_type": "code",
   "execution_count": 39,
   "metadata": {},
   "outputs": [
    {
     "data": {
      "text/plain": [
       "36"
      ]
     },
     "execution_count": 39,
     "metadata": {},
     "output_type": "execute_result"
    }
   ],
   "source": [
    "len(batch_words[0])"
   ]
  },
  {
   "cell_type": "markdown",
   "metadata": {
    "collapsed": true,
    "id": "_oK_i5Xa8aHv"
   },
   "source": [
    "### Build model\n",
    "\n",
    "Unlike our previous lab, this time we'll focus on a high-level keras interface to recurrent neural networks. It is as simple as you can get with RNN, allbeit somewhat constraining for complex tasks like seq2seq.\n",
    "\n",
    "By default, all keras RNNs apply to a whole sequence of inputs and produce a sequence of hidden states `(return_sequences=True` or just the last hidden state `(return_sequences=False)`. All the recurrence is happening under the hood.\n",
    "\n",
    "At the top of our model we need to apply a Dense layer to each time-step independently. As of now, by default keras.layers.Dense would apply once to all time-steps concatenated. We use __keras.layers.TimeDistributed__ to modify Dense layer so that it would apply across both batch and time axes."
   ]
  },
  {
   "cell_type": "code",
   "execution_count": 10,
   "metadata": {
    "id": "OQeb8d5j8aHv"
   },
   "outputs": [],
   "source": [
    "import keras\n",
    "import keras.layers as L\n",
    "\n",
    "model = keras.models.Sequential()\n",
    "model.add(L.InputLayer([None],dtype='int32'))\n",
    "model.add(L.Embedding(len(all_words),50))\n",
    "model.add(L.SimpleRNN(64,return_sequences=True))\n",
    "\n",
    "#add top layer that predicts tag probabilities\n",
    "stepwise_dense = L.Dense(len(all_tags),activation='softmax')\n",
    "stepwise_dense = L.TimeDistributed(stepwise_dense)\n",
    "model.add(stepwise_dense)"
   ]
  },
  {
   "cell_type": "markdown",
   "metadata": {
    "id": "lQbJqM2n8aHv"
   },
   "source": [
    "__Training:__ in this case we don't want to prepare the whole training dataset in advance. The main cause is that the length of every batch depends on the maximum sentence length within the batch. This leaves us two options: use custom training code as in previous seminar or use generators.\n",
    "\n",
    "Keras models have a __`model.fit_generator`__ method that accepts a python generator yielding one batch at a time. But first we need to implement such generator:"
   ]
  },
  {
   "cell_type": "code",
   "execution_count": 11,
   "metadata": {
    "id": "kpeMsDi18aHw"
   },
   "outputs": [],
   "source": [
    "from keras.utils.np_utils import to_categorical\n",
    "BATCH_SIZE=32\n",
    "def generate_batches(sentences,batch_size=BATCH_SIZE,max_len=None,pad=0):\n",
    "    assert isinstance(sentences,np.ndarray),\"Make sure sentences is q numpy array\"\n",
    "    \n",
    "    while True:\n",
    "        indices = np.random.permutation(np.arange(len(sentences)))\n",
    "        for start in range(0,len(indices)-1,batch_size):\n",
    "            batch_indices = indices[start:start+batch_size]\n",
    "            batch_words,batch_tags = [],[]\n",
    "            for sent in sentences[batch_indices]:\n",
    "                words,tags = zip(*sent)\n",
    "                batch_words.append(words)\n",
    "                batch_tags.append(tags)\n",
    "\n",
    "            batch_words = to_matrix(batch_words,word_to_id,max_len,pad)\n",
    "            batch_tags = to_matrix(batch_tags,tag_to_id,max_len,pad)\n",
    "\n",
    "            batch_tags_1hot = to_categorical(batch_tags,len(all_tags)).reshape(batch_tags.shape+(-1,))\n",
    "            yield batch_words,batch_tags_1hot\n",
    "        "
   ]
  },
  {
   "cell_type": "markdown",
   "metadata": {
    "id": "zYoR9vgn8aHw"
   },
   "source": [
    "__Callbacks:__ Another thing we need is to measure model performance. The tricky part is not to count accuracy after sentence ends (on padding) and making sure we count all the validation data exactly once.\n",
    "\n",
    "While it isn't impossible to persuade Keras to do all of that, we may as well write our own callback that does that.\n",
    "Keras callbacks allow you to write a custom code to be ran once every epoch or every minibatch. We'll define one via LambdaCallback"
   ]
  },
  {
   "cell_type": "code",
   "execution_count": 108,
   "metadata": {
    "id": "CC8woNtV8aHx"
   },
   "outputs": [],
   "source": [
    "def compute_test_accuracy(model):\n",
    "    test_words,test_tags = zip(*[zip(*sentence) for sentence in test_data])\n",
    "    test_words,test_tags = to_matrix(test_words,word_to_id),to_matrix(test_tags,tag_to_id)\n",
    "\n",
    "    #predict tag probabilities of shape [batch,time,n_tags]\n",
    "    predicted_tag_probabilities = model.predict(test_words,verbose=1)\n",
    "    predicted_tags = predicted_tag_probabilities.argmax(axis=-1)\n",
    "\n",
    "    #compute accurary excluding padding\n",
    "    numerator = np.sum(np.logical_and((predicted_tags == test_tags),(test_words != 0)))\n",
    "    denominator = np.sum(test_words != 0)\n",
    "    return float(numerator)/denominator\n",
    "\n",
    "\n",
    "class EvaluateAccuracy(keras.callbacks.Callback):\n",
    "    def on_epoch_end(self,epoch,logs=None):\n",
    "        sys.stdout.flush()\n",
    "        print(\"\\nMeasuring validation accuracy...\")\n",
    "        acc = compute_test_accuracy(self.model)\n",
    "        print(\"\\nValidation accuracy: %.5f\\n\"%acc)\n",
    "        sys.stdout.flush()\n",
    "        "
   ]
  },
  {
   "cell_type": "code",
   "execution_count": 13,
   "metadata": {
    "colab": {
     "base_uri": "https://localhost:8080/"
    },
    "id": "5eJGEWu58aHx",
    "outputId": "fa55a9e0-ad5d-4d82-e608-396c87235d83"
   },
   "outputs": [
    {
     "name": "stderr",
     "output_type": "stream",
     "text": [
      "C:\\Users\\Vladimir\\AppData\\Roaming\\Python\\Python37\\site-packages\\keras\\engine\\training.py:1972: UserWarning: `Model.fit_generator` is deprecated and will be removed in a future version. Please use `Model.fit`, which supports generators.\n",
      "  warnings.warn('`Model.fit_generator` is deprecated and '\n"
     ]
    },
    {
     "name": "stdout",
     "output_type": "stream",
     "text": [
      "Epoch 1/5\n",
      "1343/1343 [==============================] - 25s 17ms/step - loss: 0.2672\n",
      "\n",
      "Measuring validation accuracy...\n",
      "448/448 [==============================] - ETA:  - 6s 13ms/step\n",
      "\n",
      "Validation accuracy: 0.94087\n",
      "\n",
      "Epoch 2/5\n",
      "1343/1343 [==============================] - 23s 17ms/step - loss: 0.0589\n",
      "\n",
      "Measuring validation accuracy...\n",
      "448/448 [==============================] - 5s 12ms/step\n",
      "\n",
      "Validation accuracy: 0.94417\n",
      "\n",
      "Epoch 3/5\n",
      "1343/1343 [==============================] - 24s 18ms/step - loss: 0.0518 0s - loss: \n",
      "\n",
      "Measuring validation accuracy...\n",
      "448/448 [==============================] - 5s 12ms/step\n",
      "\n",
      "Validation accuracy: 0.94603\n",
      "\n",
      "Epoch 4/5\n",
      "1343/1343 [==============================] - 24s 18ms/step - loss: 0.0468\n",
      "\n",
      "Measuring validation accuracy...\n",
      "448/448 [==============================] - 5s 12ms/step\n",
      "\n",
      "Validation accuracy: 0.94552\n",
      "\n",
      "Epoch 5/5\n",
      "1343/1343 [==============================] - 24s 18ms/step - loss: 0.0426\n",
      "\n",
      "Measuring validation accuracy...\n",
      "448/448 [==============================] - 5s 12ms/step\n",
      "\n",
      "Validation accuracy: 0.94439\n",
      "\n"
     ]
    },
    {
     "data": {
      "text/plain": [
       "<keras.callbacks.History at 0x26f2743c248>"
      ]
     },
     "execution_count": 13,
     "metadata": {},
     "output_type": "execute_result"
    }
   ],
   "source": [
    "model.compile('adam','categorical_crossentropy')\n",
    "\n",
    "model.fit_generator(generate_batches(train_data),len(train_data)/BATCH_SIZE,\n",
    "                    callbacks=[EvaluateAccuracy()], epochs=5,)"
   ]
  },
  {
   "cell_type": "code",
   "execution_count": 43,
   "metadata": {},
   "outputs": [
    {
     "name": "stdout",
     "output_type": "stream",
     "text": [
      "Model: \"sequential\"\n",
      "_________________________________________________________________\n",
      "Layer (type)                 Output Shape              Param #   \n",
      "=================================================================\n",
      "embedding (Embedding)        (None, None, 50)          500100    \n",
      "_________________________________________________________________\n",
      "simple_rnn (SimpleRNN)       (None, None, 64)          7360      \n",
      "_________________________________________________________________\n",
      "time_distributed (TimeDistri (None, None, 14)          910       \n",
      "=================================================================\n",
      "Total params: 508,370\n",
      "Trainable params: 508,370\n",
      "Non-trainable params: 0\n",
      "_________________________________________________________________\n"
     ]
    }
   ],
   "source": [
    "model.summary()"
   ]
  },
  {
   "cell_type": "markdown",
   "metadata": {
    "id": "TTN7C34V8aHy"
   },
   "source": [
    "Measure final accuracy on the whole test set."
   ]
  },
  {
   "cell_type": "code",
   "execution_count": 109,
   "metadata": {
    "colab": {
     "base_uri": "https://localhost:8080/"
    },
    "id": "tHgxnYB68aHy",
    "outputId": "0b3b4bb9-67e2-4532-e172-609f53e6b6f7"
   },
   "outputs": [
    {
     "name": "stdout",
     "output_type": "stream",
     "text": [
      "448/448 [==============================] - 6s 13ms/step\n",
      "Final accuracy: 0.94439\n"
     ]
    }
   ],
   "source": [
    "acc = compute_test_accuracy(model)\n",
    "print(\"Final accuracy: %.5f\"%acc)\n",
    "\n",
    "assert acc>0.94, \"Keras has gone on a rampage again, please contact course staff.\""
   ]
  },
  {
   "cell_type": "markdown",
   "metadata": {
    "id": "5L5Prr4I8aHy"
   },
   "source": [
    "### Going bidirectional\n",
    "\n",
    "Since we're analyzing a full sequence, it's legal for us to look into future data.\n",
    "\n",
    "A simple way to achieve that is to go both directions at once, making a __bidirectional RNN__.\n",
    "\n",
    "In Keras you can achieve that both manually (using two LSTMs and Concatenate) and by using __`keras.layers.Bidirectional`__. \n",
    "\n",
    "This one works just as `TimeDistributed` we saw before: you wrap it around a recurrent layer (SimpleRNN now and LSTM/GRU later) and it actually creates two layers under the hood.\n",
    "\n",
    "Your first task is to use such a layer our POS-tagger."
   ]
  },
  {
   "cell_type": "code",
   "execution_count": 110,
   "metadata": {
    "id": "xWfCrbh-8aHy"
   },
   "outputs": [],
   "source": [
    "\n",
    "\n",
    "#Define a model that utilizes bidirectional SimpleRNN\n",
    "modelx = keras.models.Sequential()\n",
    "modelx.add(L.InputLayer([None],dtype='int32'))\n",
    "modelx.add(L.Embedding(len(all_words),50))\n",
    "modelx.add(L.Bidirectional(L.SimpleRNN(64,return_sequences=True)))\n",
    "\n",
    "stepwise_dense_x = L.Dense(len(all_tags),activation='softmax')\n",
    "stepwise_dense_x = L.TimeDistributed(stepwise_dense_x)\n",
    "modelx.add(stepwise_dense_x)\n",
    "\n",
    "\n"
   ]
  },
  {
   "cell_type": "code",
   "execution_count": 111,
   "metadata": {
    "colab": {
     "base_uri": "https://localhost:8080/"
    },
    "id": "Ort64W348aHz",
    "outputId": "a085f8e1-0504-499b-d75c-e118df44cd2a"
   },
   "outputs": [
    {
     "name": "stdout",
     "output_type": "stream",
     "text": [
      "Epoch 1/5\n",
      "1343/1343 [==============================] - 42s 30ms/step - loss: 0.1928\n",
      "\n",
      "Measuring validation accuracy...\n",
      "448/448 [==============================] - 9s 21ms/step\n",
      "\n",
      "Validation accuracy: 0.95702\n",
      "\n",
      "Epoch 2/5\n",
      "1343/1343 [==============================] - 39s 29ms/step - loss: 0.0420\n",
      "\n",
      "Measuring validation accuracy...\n",
      "448/448 [==============================] - 10s 21ms/step\n",
      "\n",
      "Validation accuracy: 0.96097\n",
      "\n",
      "Epoch 3/5\n",
      "1343/1343 [==============================] - 40s 30ms/step - loss: 0.0346\n",
      "\n",
      "Measuring validation accuracy...\n",
      "448/448 [==============================] - 9s 21ms/step\n",
      "\n",
      "Validation accuracy: 0.96235\n",
      "\n",
      "Epoch 4/5\n",
      "1343/1343 [==============================] - 40s 30ms/step - loss: 0.0293 0s - loss:\n",
      "\n",
      "Measuring validation accuracy...\n",
      "448/448 [==============================] - 9s 21ms/step\n",
      "\n",
      "Validation accuracy: 0.96255\n",
      "\n",
      "Epoch 5/5\n",
      "1343/1343 [==============================] - 40s 30ms/step - loss: 0.0245\n",
      "\n",
      "Measuring validation accuracy...\n",
      "448/448 [==============================] - 9s 21ms/step\n",
      "\n",
      "Validation accuracy: 0.96151\n",
      "\n"
     ]
    },
    {
     "data": {
      "text/plain": [
       "<keras.callbacks.History at 0x26f41037788>"
      ]
     },
     "execution_count": 111,
     "metadata": {},
     "output_type": "execute_result"
    }
   ],
   "source": [
    "modelx.compile('adam','categorical_crossentropy')\n",
    "\n",
    "modelx.fit_generator(generate_batches(train_data),len(train_data)/BATCH_SIZE,\n",
    "                    callbacks=[EvaluateAccuracy()], epochs=5,)"
   ]
  },
  {
   "cell_type": "code",
   "execution_count": 112,
   "metadata": {
    "colab": {
     "base_uri": "https://localhost:8080/"
    },
    "id": "iWHSkF648aHz",
    "outputId": "b5c52b8f-ee74-4971-ebf9-6512ed87ab2b"
   },
   "outputs": [
    {
     "name": "stdout",
     "output_type": "stream",
     "text": [
      "448/448 [==============================] - 9s 21ms/step\n",
      "\n",
      "Final accuracy: 0.96151\n",
      "Well done!\n"
     ]
    }
   ],
   "source": [
    "acc = compute_test_accuracy(modelx)\n",
    "print(\"\\nFinal accuracy: %.5f\"%acc)\n",
    "\n",
    "assert acc>0.96, \"Bidirectional RNNs are better than this!\"\n",
    "print(\"Well done!\")"
   ]
  },
  {
   "cell_type": "code",
   "execution_count": 42,
   "metadata": {
    "colab": {
     "base_uri": "https://localhost:8080/"
    },
    "id": "I6G9PwxzvlHm",
    "outputId": "35153007-e7c4-4e9d-ba88-7088dc4784bc"
   },
   "outputs": [
    {
     "name": "stdout",
     "output_type": "stream",
     "text": [
      "Epoch 1/5\n",
      "1344/1343 [==============================] - 163s 121ms/step - loss: 0.1964\n",
      "\n",
      "Measuring validation accuracy...\n",
      "14335/14335 [==============================] - 32s 2ms/step\n",
      "\n",
      "Validation accuracy: 0.95809\n",
      "\n",
      "Epoch 2/5\n",
      "1344/1343 [==============================] - 162s 120ms/step - loss: 0.0411\n",
      "\n",
      "Measuring validation accuracy...\n",
      "14335/14335 [==============================] - 32s 2ms/step\n",
      "\n",
      "Validation accuracy: 0.96335\n",
      "\n",
      "Epoch 3/5\n",
      "1344/1343 [==============================] - 157s 117ms/step - loss: 0.0343\n",
      "\n",
      "Measuring validation accuracy...\n",
      "14335/14335 [==============================] - 31s 2ms/step\n",
      "\n",
      "Validation accuracy: 0.96453\n",
      "\n",
      "Epoch 4/5\n",
      "1344/1343 [==============================] - 158s 118ms/step - loss: 0.0295\n",
      "\n",
      "Measuring validation accuracy...\n",
      "14335/14335 [==============================] - 31s 2ms/step\n",
      "\n",
      "Validation accuracy: 0.96556\n",
      "\n",
      "Epoch 5/5\n",
      "1344/1343 [==============================] - 163s 121ms/step - loss: 0.0260\n",
      "\n",
      "Measuring validation accuracy...\n",
      "14335/14335 [==============================] - 31s 2ms/step\n",
      "\n",
      "Validation accuracy: 0.96528\n",
      "\n"
     ]
    },
    {
     "data": {
      "text/plain": [
       "<keras.callbacks.callbacks.History at 0x7fb1f3343650>"
      ]
     },
     "execution_count": 42,
     "metadata": {},
     "output_type": "execute_result"
    }
   ],
   "source": [
    "#Bidirecional GRU\n",
    "modelx_gru = keras.models.Sequential()\n",
    "modelx_gru.add(L.InputLayer([None],dtype='int32'))\n",
    "modelx_gru.add(L.Embedding(len(all_words),50))\n",
    "modelx_gru.add(L.Bidirectional(L.GRU(64,return_sequences=True)))\n",
    "\n",
    "stepwise_dense_x_gru = L.Dense(len(all_tags),activation='softmax')\n",
    "stepwise_dense_x_gru = L.TimeDistributed(stepwise_dense_x_gru)\n",
    "modelx_gru.add(stepwise_dense_x_gru)\n",
    "modelx_gru.compile('adam','categorical_crossentropy')\n",
    "\n",
    "modelx_gru.fit_generator(generate_batches(train_data),len(train_data)/BATCH_SIZE,\n",
    "                    callbacks=[EvaluateAccuracy()], epochs=5,)"
   ]
  },
  {
   "cell_type": "code",
   "execution_count": 43,
   "metadata": {
    "colab": {
     "base_uri": "https://localhost:8080/"
    },
    "id": "6FEaINA00ImW",
    "outputId": "fb5a8d47-6207-4b4e-c31f-38fb0fd328ed"
   },
   "outputs": [
    {
     "name": "stdout",
     "output_type": "stream",
     "text": [
      "Epoch 1/5\n",
      "1344/1343 [==============================] - 137s 102ms/step - loss: 0.1887\n",
      "\n",
      "Measuring validation accuracy...\n",
      "14335/14335 [==============================] - 28s 2ms/step\n",
      "\n",
      "Validation accuracy: 0.95671\n",
      "\n",
      "Epoch 2/5\n",
      "1344/1343 [==============================] - 134s 100ms/step - loss: 0.0421\n",
      "\n",
      "Measuring validation accuracy...\n",
      "14335/14335 [==============================] - 26s 2ms/step\n",
      "\n",
      "Validation accuracy: 0.96182\n",
      "\n",
      "Epoch 3/5\n",
      "1344/1343 [==============================] - 127s 95ms/step - loss: 0.0348\n",
      "\n",
      "Measuring validation accuracy...\n",
      "14335/14335 [==============================] - 25s 2ms/step\n",
      "\n",
      "Validation accuracy: 0.96427\n",
      "\n",
      "Epoch 4/5\n",
      "1344/1343 [==============================] - 127s 94ms/step - loss: 0.0301\n",
      "\n",
      "Measuring validation accuracy...\n",
      "14335/14335 [==============================] - 26s 2ms/step\n",
      "\n",
      "Validation accuracy: 0.96556\n",
      "\n",
      "Epoch 5/5\n",
      "1344/1343 [==============================] - 126s 94ms/step - loss: 0.0266\n",
      "\n",
      "Measuring validation accuracy...\n",
      "14335/14335 [==============================] - 25s 2ms/step\n",
      "\n",
      "Validation accuracy: 0.96494\n",
      "\n"
     ]
    },
    {
     "data": {
      "text/plain": [
       "<keras.callbacks.callbacks.History at 0x7fb1f0035e90>"
      ]
     },
     "execution_count": 43,
     "metadata": {},
     "output_type": "execute_result"
    }
   ],
   "source": [
    "#Bidirecional LSTM\n",
    "modelx_lstm = keras.models.Sequential()\n",
    "modelx_lstm.add(L.InputLayer([None],dtype='int32'))\n",
    "modelx_lstm.add(L.Embedding(len(all_words),50))\n",
    "modelx_lstm.add(L.Bidirectional(L.LSTM(64,return_sequences=True)))\n",
    "\n",
    "stepwise_dense_x_lstm = L.Dense(len(all_tags),activation='softmax')\n",
    "stepwise_dense_x_lstm = L.TimeDistributed(stepwise_dense_x_lstm)\n",
    "modelx_lstm.add(stepwise_dense_x_lstm)\n",
    "modelx_lstm.compile('adam','categorical_crossentropy')\n",
    "\n",
    "modelx_lstm.fit_generator(generate_batches(train_data),len(train_data)/BATCH_SIZE,\n",
    "                    callbacks=[EvaluateAccuracy()], epochs=5,)"
   ]
  },
  {
   "cell_type": "code",
   "execution_count": null,
   "metadata": {
    "id": "-4qK1gPZ991P"
   },
   "outputs": [],
   "source": []
  },
  {
   "cell_type": "markdown",
   "metadata": {
    "id": "GnlUKEfP9-MH"
   },
   "source": [
    "Видим, что лучшие резуьлтаты показывает двунаправленные рекурентные сети, причем GRU и LSTM показываю чуть более лучшие результаты"
   ]
  },
  {
   "cell_type": "markdown",
   "metadata": {
    "id": "VW_nFppS8aH0"
   },
   "source": [
    "Task I: Structured loss functions (more bonus points)\n",
    "\n",
    "Since we're tagging the whole sequence at once, we might as well train our network to do so. Remember linear CRF from the lecture? You can also use it as a loss function for your RNN\n",
    "\n",
    "\n",
    "  * There's more than one way to do so, but we'd recommend starting with [Conditional Random Fields](http://blog.echen.me/2012/01/03/introduction-to-conditional-random-fields/)\n",
    "  * You can plug CRF as a loss function and still train by backprop. There's even some neat tensorflow [implementation](https://www.tensorflow.org/addons/api_docs/python/tfa/layers/CRF) for you.\n",
    "  * Alternatively, you can condition your model on previous tags (make it autoregressive) and perform __beam search__ over that model."
   ]
  },
  {
   "cell_type": "code",
   "execution_count": 17,
   "metadata": {},
   "outputs": [
    {
     "name": "stdout",
     "output_type": "stream",
     "text": [
      "Requirement already satisfied: keras_contrib in c:\\programfiles\\anaconda3\\lib\\site-packages\\keras_contrib-2.0.8-py3.7.egg (2.0.8)\n",
      "Requirement already satisfied: keras in c:\\users\\vladimir\\appdata\\roaming\\python\\python37\\site-packages (from keras_contrib) (2.6.0)\n"
     ]
    }
   ],
   "source": [
    "!pip install keras_contrib"
   ]
  },
  {
   "cell_type": "code",
   "execution_count": 72,
   "metadata": {
    "colab": {
     "base_uri": "https://localhost:8080/",
     "height": 368
    },
    "id": "uXEj1Nm98aH0",
    "outputId": "f7f38d8e-0db5-442c-c210-90249017f1a4"
   },
   "outputs": [],
   "source": [
    "#Bidirecional LSTM  + crf\n",
    "from keras_contrib.layers import CRF\n",
    "from keras_contrib.losses import crf_loss\n",
    "from keras_contrib.metrics import crf_viterbi_accuracy\n",
    "\n",
    "modelx_lstm = keras.models.Sequential()\n",
    "modelx_lstm.add(L.InputLayer([None],dtype='int32'))\n",
    "modelx_lstm.add(L.Embedding(len(all_words),50))\n",
    "modelx_lstm.add(L.Bidirectional(L.LSTM(64,return_sequences=True)))\n",
    "\n",
    "stepwise_dense_x_lstm = L.Dense(len(all_tags),activation='softmax')\n",
    "stepwise_dense_x_lstm = L.TimeDistributed(stepwise_dense_x_lstm)\n",
    "modelx_lstm.add(stepwise_dense_x_lstm)\n",
    "crf = CRF(len(tag_to_id))\n",
    "modelx_lstm.add(crf)\n",
    "modelx_lstm.compile('adam', loss = crf_loss, metrics = [crf_viterbi_accuracy])\n",
    "\n",
    "\n",
    "modelx_lstm.fit_generator(generate_batches(train_data),len(train_data)/BATCH_SIZE,\n",
    "                    callbacks=[EvaluateAccuracy()], epochs=5,)"
   ]
  },
  {
   "cell_type": "markdown",
   "metadata": {
    "id": "AG_wuMVf8aH0"
   },
   "source": [
    "\n",
    "#### Some tips\n",
    "Here there are a few more tips on how to improve training that are a bit trickier to impliment. We strongly suggest that you try them _after_ you've got a good initial model.\n",
    "* __Use pre-trained embeddings__: you can use pre-trained weights from [there](http://ahogrammer.com/2017/01/20/the-list-of-pretrained-word-embeddings/) to kickstart your Embedding layer.\n",
    "  * Embedding layer has a matrix W (layer.W) which contains word embeddings for each word in the dictionary. You can just overwrite them with tf.assign.\n",
    "  * When using pre-trained embeddings, pay attention to the fact that model's dictionary is different from your own.\n",
    "  * You may want to switch trainable=False for embedding layer in first few epochs as in regular fine-tuning.  \n",
    "* __Go beyond SimpleRNN__: there's `keras.layers.LSTM` and `keras.layers.GRU`\n",
    "  * If you want to use a custom recurrent Cell, read [this](https://keras.io/layers/recurrent/#rnn)\n",
    "  * You can also use 1D Convolutions (`keras.layers.Conv1D`). They are often as good as recurrent layers but with less overfitting.\n",
    "* __Stack more layers__: if there is a common motif to this course it's about stacking layers\n",
    "  * You can just add recurrent and 1dconv layers on top of one another and keras will understand it\n",
    "  * Just remember that bigger networks may need more epochs to train\n",
    "* __Regularization__: you can apply dropouts as usual but also in an RNN-specific way\n",
    "  * `keras.layers.Dropout` works inbetween RNN layers\n",
    "  * Recurrent layers also have `recurrent_dropout` parameter\n",
    "* __Gradient clipping__: If your training isn't as stable as you'd like, set `clipnorm` in your optimizer.\n",
    "  * Which is to say, it's a good idea to watch over your loss curve at each minibatch. Try tensorboard callback or something similar.\n",
    "* __Word Dropout__: tl;dr randomly replace words with UNK during training. \n",
    "  * This can also simulate increased amount of unknown words in the test set\n",
    "* __Larger vocabulary__: You can obtain greater performance by expanding your model's input dictionary from 5000 to up to every single word!\n",
    "  * Just make sure your model doesn't overfit due to so many parameters.\n",
    "  * Combined with regularizers or pre-trained word-vectors this could be really good cuz right now our model is blind to >5% of words.  \n",
    "* __More efficient batching__: right now TF spends a lot of time iterating over \"0\"s\n",
    "  * This happens because batch is always padded to the length of a longest sentence\n",
    "  * You can speed things up by pre-generating batches of similar lengths and feeding it with randomly chosen pre-generated batch.\n",
    "  * This technically breaks the i.i.d. assumption, but it works unless you come up with some insane rnn architectures.\n",
    "* __The most important advice__: don't cram in everything at once!\n",
    "  * If you stuff in a lot of modiffications, some of them almost inevitably gonna be detrimental and you'll never know which of them are.\n",
    "  * Try to instead go in small iterations and record experiment results to guide further search.\n",
    "    \n",
    "Good hunting!"
   ]
  },
  {
   "cell_type": "code",
   "execution_count": 73,
   "metadata": {
    "id": "TF1T00yr8RvM"
   },
   "outputs": [
    {
     "name": "stdout",
     "output_type": "stream",
     "text": [
      "Epoch 1/5\n",
      "1343/1343 [==============================] - 189s 137ms/step - loss: 0.2624\n",
      "\n",
      "Measuring validation accuracy...\n",
      "448/448 [==============================] - 54s 118ms/step\n",
      "\n",
      "Validation accuracy: 0.95264\n",
      "\n",
      "Epoch 2/5\n",
      "1343/1343 [==============================] - 194s 145ms/step - loss: 0.0463\n",
      "\n",
      "Measuring validation accuracy...\n",
      "448/448 [==============================] - 57s 128ms/step\n",
      "\n",
      "Validation accuracy: 0.96101\n",
      "\n",
      "Epoch 3/5\n",
      "1343/1343 [==============================] - 203s 151ms/step - loss: 0.0377\n",
      "\n",
      "Measuring validation accuracy...\n",
      "448/448 [==============================] - 55s 122ms/step\n",
      "\n",
      "Validation accuracy: 0.96248\n",
      "\n",
      "Epoch 4/5\n",
      "1343/1343 [==============================] - 200s 149ms/step - loss: 0.0324\n",
      "\n",
      "Measuring validation accuracy...\n",
      "448/448 [==============================] - 54s 121ms/step\n",
      "\n",
      "Validation accuracy: 0.96497\n",
      "\n",
      "Epoch 5/5\n",
      "1343/1343 [==============================] - 191s 142ms/step - loss: 0.0288\n",
      "\n",
      "Measuring validation accuracy...\n",
      "448/448 [==============================] - 54s 121ms/step\n",
      "\n",
      "Validation accuracy: 0.96566\n",
      "\n"
     ]
    },
    {
     "data": {
      "text/plain": [
       "<keras.callbacks.History at 0x26f288f1c08>"
      ]
     },
     "execution_count": 73,
     "metadata": {},
     "output_type": "execute_result"
    }
   ],
   "source": [
    "modelx_lstm = keras.models.Sequential()\n",
    "modelx_lstm.add(L.InputLayer([None],dtype='int32'))\n",
    "modelx_lstm.add(L.Embedding(len(all_words),50))\n",
    "modelx_lstm.add(L.Bidirectional(L.LSTM(64,return_sequences=True)))\n",
    "modelx_lstm.add(L.Bidirectional(L.LSTM(128,return_sequences=True)))\n",
    "stepwise_dense_x_lstm = L.Dense(len(all_tags),activation='softmax')\n",
    "stepwise_dense_x_lstm = L.TimeDistributed(stepwise_dense_x_lstm)\n",
    "modelx_lstm.add(stepwise_dense_x_lstm)\n",
    "modelx_lstm.compile('adam','categorical_crossentropy')\n",
    "\n",
    "modelx_lstm.fit_generator(generate_batches(train_data),len(train_data)/BATCH_SIZE,\n",
    "                    callbacks=[EvaluateAccuracy()], epochs=5,)"
   ]
  },
  {
   "cell_type": "code",
   "execution_count": 107,
   "metadata": {},
   "outputs": [
    {
     "name": "stdout",
     "output_type": "stream",
     "text": [
      "Epoch 1/5\n",
      "1343/1343 [==============================] - 463s 340ms/step - loss: 0.2636\n",
      "\n",
      "Measuring validation accuracy...\n",
      "448/448 [==============================] - 61s 135ms/step\n",
      "\n",
      "Validation accuracy: 0.95238\n",
      "\n",
      "Epoch 2/5\n",
      "1343/1343 [==============================] - 459s 341ms/step - loss: 0.0458\n",
      "\n",
      "Measuring validation accuracy...\n",
      "448/448 [==============================] - 63s 140ms/step\n",
      "\n",
      "Validation accuracy: 0.95964\n",
      "\n",
      "Epoch 3/5\n",
      "1343/1343 [==============================] - 460s 343ms/step - loss: 0.0373\n",
      "\n",
      "Measuring validation accuracy...\n",
      "448/448 [==============================] - 60s 134ms/step\n",
      "\n",
      "Validation accuracy: 0.96342\n",
      "\n",
      "Epoch 4/5\n",
      "1343/1343 [==============================] - 458s 341ms/step - loss: 0.0321\n",
      "\n",
      "Measuring validation accuracy...\n",
      "448/448 [==============================] - 60s 134ms/step\n",
      "\n",
      "Validation accuracy: 0.96484\n",
      "\n",
      "Epoch 5/5\n",
      "1343/1343 [==============================] - 463s 344ms/step - loss: 0.0285\n",
      "\n",
      "Measuring validation accuracy...\n",
      "448/448 [==============================] - 60s 134ms/step\n",
      "\n",
      "Validation accuracy: 0.96578\n",
      "\n"
     ]
    },
    {
     "data": {
      "text/plain": [
       "<keras.callbacks.History at 0x26f57698208>"
      ]
     },
     "execution_count": 107,
     "metadata": {},
     "output_type": "execute_result"
    }
   ],
   "source": [
    "modelx_lstm = keras.models.Sequential()\n",
    "modelx_lstm.add(L.InputLayer([None],dtype='int32'))\n",
    "modelx_lstm.add(L.Embedding(len(all_words),50))\n",
    "modelx_lstm.add(L.Bidirectional(L.LSTM(64,return_sequences=True)))\n",
    "modelx_lstm.add(L.Bidirectional(L.LSTM(128,return_sequences=True, recurrent_dropout=0.1)))\n",
    "stepwise_dense_x_lstm = L.Dense(len(all_tags),activation='softmax')\n",
    "stepwise_dense_x_lstm = L.TimeDistributed(stepwise_dense_x_lstm)\n",
    "modelx_lstm.add(stepwise_dense_x_lstm)\n",
    "modelx_lstm.compile('adam','categorical_crossentropy')\n",
    "\n",
    "modelx_lstm.fit_generator(generate_batches(train_data),len(train_data)/BATCH_SIZE,\n",
    "                    callbacks=[EvaluateAccuracy()], epochs=5,)"
   ]
  },
  {
   "cell_type": "code",
   "execution_count": null,
   "metadata": {},
   "outputs": [],
   "source": []
  }
 ],
 "metadata": {
  "accelerator": "GPU",
  "colab": {
   "collapsed_sections": [],
   "name": "Intro to NN 4 (HW)",
   "provenance": []
  },
  "kernelspec": {
   "display_name": "Python 3",
   "language": "python",
   "name": "python3"
  },
  "language_info": {
   "codemirror_mode": {
    "name": "ipython",
    "version": 3
   },
   "file_extension": ".py",
   "mimetype": "text/x-python",
   "name": "python",
   "nbconvert_exporter": "python",
   "pygments_lexer": "ipython3",
   "version": "3.7.4"
  }
 },
 "nbformat": 4,
 "nbformat_minor": 1
}
